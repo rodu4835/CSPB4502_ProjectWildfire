{
 "cells": [
  {
   "cell_type": "markdown",
   "id": "662732e9-70b9-4ec7-8cbc-d0cf0767af4d",
   "metadata": {},
   "source": [
    "# CSPB 4502 - Final Project - Project Wildfire\n",
    "### Group 3 - Natalie Dreher, Ronald Durham, and Grant Fairbairn"
   ]
  },
  {
   "cell_type": "code",
   "execution_count": 1,
   "id": "ef791536-f596-40aa-9587-09a69be1385c",
   "metadata": {},
   "outputs": [],
   "source": [
    "import pandas as pd\n",
    "import numpy as np\n",
    "from matplotlib import pyplot as plt\n",
    "import seaborn as sns\n",
    "import scipy as sp\n",
    "import scipy.stats as stats\n",
    "# Set color map to have light blue background\n",
    "sns.set()\n",
    "import statsmodels.formula.api as smf\n",
    "import statsmodels.api as sm"
   ]
  },
  {
   "cell_type": "code",
   "execution_count": 2,
   "id": "47bb5944-47bb-47f9-8875-04ee1365233b",
   "metadata": {},
   "outputs": [],
   "source": [
    "df0 = pd.read_csv(\"firesCleaned_0.csv\")\n",
    "df1 = pd.read_csv(\"firesCleaned_1.csv\")\n",
    "df2 = pd.read_csv(\"firesCleaned_2.csv\")\n",
    "df3 = pd.read_csv(\"firesCleaned_3.csv\")"
   ]
  },
  {
   "cell_type": "code",
   "execution_count": 3,
   "id": "3e6c5b98-a22f-4b91-8997-afdaf6bf2cc4",
   "metadata": {},
   "outputs": [
    {
     "data": {
      "text/html": [
       "<div>\n",
       "<style scoped>\n",
       "    .dataframe tbody tr th:only-of-type {\n",
       "        vertical-align: middle;\n",
       "    }\n",
       "\n",
       "    .dataframe tbody tr th {\n",
       "        vertical-align: top;\n",
       "    }\n",
       "\n",
       "    .dataframe thead th {\n",
       "        text-align: right;\n",
       "    }\n",
       "</style>\n",
       "<table border=\"1\" class=\"dataframe\">\n",
       "  <thead>\n",
       "    <tr style=\"text-align: right;\">\n",
       "      <th></th>\n",
       "      <th>Fire Size Class</th>\n",
       "      <th>Fire Year</th>\n",
       "      <th>Owner Code</th>\n",
       "      <th>Owner Descr</th>\n",
       "      <th>Stat Cause Code</th>\n",
       "      <th>Stat Cause Descr</th>\n",
       "      <th>State</th>\n",
       "      <th>Cont Date</th>\n",
       "      <th>Cont Doy</th>\n",
       "      <th>Cont Time</th>\n",
       "      <th>Discovery Date</th>\n",
       "      <th>Discovery Doy</th>\n",
       "      <th>Discovery Time</th>\n",
       "      <th>Fire Size</th>\n",
       "      <th>Latitude</th>\n",
       "      <th>Longitude</th>\n",
       "      <th>Objectid</th>\n",
       "    </tr>\n",
       "  </thead>\n",
       "  <tbody>\n",
       "    <tr>\n",
       "      <th>0</th>\n",
       "      <td>A</td>\n",
       "      <td>2000</td>\n",
       "      <td>1</td>\n",
       "      <td>BLM</td>\n",
       "      <td>1</td>\n",
       "      <td>Lightning</td>\n",
       "      <td>CO</td>\n",
       "      <td>2451724.5</td>\n",
       "      <td>181.0</td>\n",
       "      <td>1235.0</td>\n",
       "      <td>2451723.5</td>\n",
       "      <td>180</td>\n",
       "      <td>1556.0</td>\n",
       "      <td>0.10</td>\n",
       "      <td>37.321900</td>\n",
       "      <td>-108.443700</td>\n",
       "      <td>351622</td>\n",
       "    </tr>\n",
       "    <tr>\n",
       "      <th>1</th>\n",
       "      <td>A</td>\n",
       "      <td>2000</td>\n",
       "      <td>1</td>\n",
       "      <td>BLM</td>\n",
       "      <td>1</td>\n",
       "      <td>Lightning</td>\n",
       "      <td>CO</td>\n",
       "      <td>2451757.5</td>\n",
       "      <td>214.0</td>\n",
       "      <td>1400.0</td>\n",
       "      <td>2451757.5</td>\n",
       "      <td>214</td>\n",
       "      <td>1300.0</td>\n",
       "      <td>0.10</td>\n",
       "      <td>37.250600</td>\n",
       "      <td>-108.345100</td>\n",
       "      <td>351635</td>\n",
       "    </tr>\n",
       "    <tr>\n",
       "      <th>2</th>\n",
       "      <td>A</td>\n",
       "      <td>2000</td>\n",
       "      <td>1</td>\n",
       "      <td>BLM</td>\n",
       "      <td>1</td>\n",
       "      <td>Lightning</td>\n",
       "      <td>UT</td>\n",
       "      <td>2451752.5</td>\n",
       "      <td>209.0</td>\n",
       "      <td>1600.0</td>\n",
       "      <td>2451751.5</td>\n",
       "      <td>208</td>\n",
       "      <td>1700.0</td>\n",
       "      <td>0.10</td>\n",
       "      <td>38.533350</td>\n",
       "      <td>-109.797600</td>\n",
       "      <td>353105</td>\n",
       "    </tr>\n",
       "    <tr>\n",
       "      <th>3</th>\n",
       "      <td>A</td>\n",
       "      <td>2001</td>\n",
       "      <td>1</td>\n",
       "      <td>BLM</td>\n",
       "      <td>1</td>\n",
       "      <td>Lightning</td>\n",
       "      <td>CO</td>\n",
       "      <td>2452092.5</td>\n",
       "      <td>183.0</td>\n",
       "      <td>1400.0</td>\n",
       "      <td>2452091.5</td>\n",
       "      <td>182</td>\n",
       "      <td>1000.0</td>\n",
       "      <td>0.20</td>\n",
       "      <td>37.230000</td>\n",
       "      <td>-108.327300</td>\n",
       "      <td>351654</td>\n",
       "    </tr>\n",
       "    <tr>\n",
       "      <th>4</th>\n",
       "      <td>A</td>\n",
       "      <td>2001</td>\n",
       "      <td>1</td>\n",
       "      <td>BLM</td>\n",
       "      <td>1</td>\n",
       "      <td>Lightning</td>\n",
       "      <td>CO</td>\n",
       "      <td>2452098.5</td>\n",
       "      <td>189.0</td>\n",
       "      <td>30.0</td>\n",
       "      <td>2452097.5</td>\n",
       "      <td>188</td>\n",
       "      <td>2000.0</td>\n",
       "      <td>0.10</td>\n",
       "      <td>40.244280</td>\n",
       "      <td>-108.923400</td>\n",
       "      <td>351443</td>\n",
       "    </tr>\n",
       "    <tr>\n",
       "      <th>...</th>\n",
       "      <td>...</td>\n",
       "      <td>...</td>\n",
       "      <td>...</td>\n",
       "      <td>...</td>\n",
       "      <td>...</td>\n",
       "      <td>...</td>\n",
       "      <td>...</td>\n",
       "      <td>...</td>\n",
       "      <td>...</td>\n",
       "      <td>...</td>\n",
       "      <td>...</td>\n",
       "      <td>...</td>\n",
       "      <td>...</td>\n",
       "      <td>...</td>\n",
       "      <td>...</td>\n",
       "      <td>...</td>\n",
       "      <td>...</td>\n",
       "    </tr>\n",
       "    <tr>\n",
       "      <th>499995</th>\n",
       "      <td>A</td>\n",
       "      <td>2006</td>\n",
       "      <td>14</td>\n",
       "      <td>MISSING/NOT SPECIFIED</td>\n",
       "      <td>5</td>\n",
       "      <td>Debris Burning</td>\n",
       "      <td>GA</td>\n",
       "      <td>NaN</td>\n",
       "      <td>NaN</td>\n",
       "      <td>NaN</td>\n",
       "      <td>2454087.5</td>\n",
       "      <td>352</td>\n",
       "      <td>NaN</td>\n",
       "      <td>0.13</td>\n",
       "      <td>34.434653</td>\n",
       "      <td>-83.176685</td>\n",
       "      <td>436422</td>\n",
       "    </tr>\n",
       "    <tr>\n",
       "      <th>499996</th>\n",
       "      <td>A</td>\n",
       "      <td>2006</td>\n",
       "      <td>14</td>\n",
       "      <td>MISSING/NOT SPECIFIED</td>\n",
       "      <td>5</td>\n",
       "      <td>Debris Burning</td>\n",
       "      <td>GA</td>\n",
       "      <td>NaN</td>\n",
       "      <td>NaN</td>\n",
       "      <td>NaN</td>\n",
       "      <td>2454087.5</td>\n",
       "      <td>352</td>\n",
       "      <td>NaN</td>\n",
       "      <td>0.14</td>\n",
       "      <td>31.337671</td>\n",
       "      <td>-82.847888</td>\n",
       "      <td>442220</td>\n",
       "    </tr>\n",
       "    <tr>\n",
       "      <th>499997</th>\n",
       "      <td>A</td>\n",
       "      <td>2006</td>\n",
       "      <td>14</td>\n",
       "      <td>MISSING/NOT SPECIFIED</td>\n",
       "      <td>5</td>\n",
       "      <td>Debris Burning</td>\n",
       "      <td>GA</td>\n",
       "      <td>NaN</td>\n",
       "      <td>NaN</td>\n",
       "      <td>NaN</td>\n",
       "      <td>2454087.5</td>\n",
       "      <td>352</td>\n",
       "      <td>NaN</td>\n",
       "      <td>0.22</td>\n",
       "      <td>32.505170</td>\n",
       "      <td>-82.607000</td>\n",
       "      <td>438068</td>\n",
       "    </tr>\n",
       "    <tr>\n",
       "      <th>499998</th>\n",
       "      <td>A</td>\n",
       "      <td>2006</td>\n",
       "      <td>14</td>\n",
       "      <td>MISSING/NOT SPECIFIED</td>\n",
       "      <td>5</td>\n",
       "      <td>Debris Burning</td>\n",
       "      <td>GA</td>\n",
       "      <td>NaN</td>\n",
       "      <td>NaN</td>\n",
       "      <td>NaN</td>\n",
       "      <td>2454088.5</td>\n",
       "      <td>353</td>\n",
       "      <td>NaN</td>\n",
       "      <td>0.01</td>\n",
       "      <td>31.422744</td>\n",
       "      <td>-82.730918</td>\n",
       "      <td>442837</td>\n",
       "    </tr>\n",
       "    <tr>\n",
       "      <th>499999</th>\n",
       "      <td>A</td>\n",
       "      <td>2006</td>\n",
       "      <td>14</td>\n",
       "      <td>MISSING/NOT SPECIFIED</td>\n",
       "      <td>5</td>\n",
       "      <td>Debris Burning</td>\n",
       "      <td>GA</td>\n",
       "      <td>NaN</td>\n",
       "      <td>NaN</td>\n",
       "      <td>NaN</td>\n",
       "      <td>2454088.5</td>\n",
       "      <td>353</td>\n",
       "      <td>NaN</td>\n",
       "      <td>0.04</td>\n",
       "      <td>32.174177</td>\n",
       "      <td>-82.206520</td>\n",
       "      <td>437993</td>\n",
       "    </tr>\n",
       "  </tbody>\n",
       "</table>\n",
       "<p>500000 rows × 17 columns</p>\n",
       "</div>"
      ],
      "text/plain": [
       "       Fire Size Class  Fire Year  Owner Code            Owner Descr  \\\n",
       "0                    A       2000           1                    BLM   \n",
       "1                    A       2000           1                    BLM   \n",
       "2                    A       2000           1                    BLM   \n",
       "3                    A       2001           1                    BLM   \n",
       "4                    A       2001           1                    BLM   \n",
       "...                ...        ...         ...                    ...   \n",
       "499995               A       2006          14  MISSING/NOT SPECIFIED   \n",
       "499996               A       2006          14  MISSING/NOT SPECIFIED   \n",
       "499997               A       2006          14  MISSING/NOT SPECIFIED   \n",
       "499998               A       2006          14  MISSING/NOT SPECIFIED   \n",
       "499999               A       2006          14  MISSING/NOT SPECIFIED   \n",
       "\n",
       "        Stat Cause Code Stat Cause Descr State  Cont Date  Cont Doy  \\\n",
       "0                     1        Lightning    CO  2451724.5     181.0   \n",
       "1                     1        Lightning    CO  2451757.5     214.0   \n",
       "2                     1        Lightning    UT  2451752.5     209.0   \n",
       "3                     1        Lightning    CO  2452092.5     183.0   \n",
       "4                     1        Lightning    CO  2452098.5     189.0   \n",
       "...                 ...              ...   ...        ...       ...   \n",
       "499995                5   Debris Burning    GA        NaN       NaN   \n",
       "499996                5   Debris Burning    GA        NaN       NaN   \n",
       "499997                5   Debris Burning    GA        NaN       NaN   \n",
       "499998                5   Debris Burning    GA        NaN       NaN   \n",
       "499999                5   Debris Burning    GA        NaN       NaN   \n",
       "\n",
       "        Cont Time  Discovery Date  Discovery Doy  Discovery Time  Fire Size  \\\n",
       "0          1235.0       2451723.5            180          1556.0       0.10   \n",
       "1          1400.0       2451757.5            214          1300.0       0.10   \n",
       "2          1600.0       2451751.5            208          1700.0       0.10   \n",
       "3          1400.0       2452091.5            182          1000.0       0.20   \n",
       "4            30.0       2452097.5            188          2000.0       0.10   \n",
       "...           ...             ...            ...             ...        ...   \n",
       "499995        NaN       2454087.5            352             NaN       0.13   \n",
       "499996        NaN       2454087.5            352             NaN       0.14   \n",
       "499997        NaN       2454087.5            352             NaN       0.22   \n",
       "499998        NaN       2454088.5            353             NaN       0.01   \n",
       "499999        NaN       2454088.5            353             NaN       0.04   \n",
       "\n",
       "         Latitude   Longitude  Objectid  \n",
       "0       37.321900 -108.443700    351622  \n",
       "1       37.250600 -108.345100    351635  \n",
       "2       38.533350 -109.797600    353105  \n",
       "3       37.230000 -108.327300    351654  \n",
       "4       40.244280 -108.923400    351443  \n",
       "...           ...         ...       ...  \n",
       "499995  34.434653  -83.176685    436422  \n",
       "499996  31.337671  -82.847888    442220  \n",
       "499997  32.505170  -82.607000    438068  \n",
       "499998  31.422744  -82.730918    442837  \n",
       "499999  32.174177  -82.206520    437993  \n",
       "\n",
       "[500000 rows x 17 columns]"
      ]
     },
     "execution_count": 3,
     "metadata": {},
     "output_type": "execute_result"
    }
   ],
   "source": [
    "# Visualizing the dataframe for the first 500K entries\n",
    "df0"
   ]
  },
  {
   "cell_type": "code",
   "execution_count": 4,
   "id": "9bb6558b-de50-4bbe-a8af-4811843cde42",
   "metadata": {},
   "outputs": [],
   "source": [
    "# Creating smaller dataframes to analyze\n",
    "\n",
    "df0Year = df0['Fire Year']\n",
    "df1Year = df1['Fire Year']\n",
    "df2Year = df2['Fire Year']\n",
    "df3Year = df3['Fire Year']"
   ]
  },
  {
   "cell_type": "code",
   "execution_count": 5,
   "id": "414afeff-d30c-40fa-8d66-1f54c2e1a848",
   "metadata": {},
   "outputs": [],
   "source": [
    "dfYear1 = pd.concat([df0Year, df1Year])\n",
    "dfYear2 = pd.concat([df2Year, df3Year])\n",
    "\n",
    "# Deleting subparts as we go to save memory\n",
    "del df0Year\n",
    "del df1Year\n",
    "del df2Year\n",
    "del df3Year"
   ]
  },
  {
   "cell_type": "code",
   "execution_count": 6,
   "id": "a4891f1d-351f-46d0-a104-b53a9162b75f",
   "metadata": {},
   "outputs": [],
   "source": [
    "dfYear = pd.concat([dfYear1, dfYear2])\n",
    "del dfYear1\n",
    "del dfYear2"
   ]
  },
  {
   "cell_type": "code",
   "execution_count": 8,
   "id": "9d975b5c-facf-4e14-8904-fe0a6648f096",
   "metadata": {},
   "outputs": [
    {
     "data": {
      "image/png": "[encoded data removed]",
      "text/plain": [
       "<Figure size 432x288 with 1 Axes>"
      ]
     },
     "metadata": {
      "needs_background": "light"
     },
     "output_type": "display_data"
    }
   ],
   "source": [
    "dfYear.value_counts().sort_index().plot(kind='bar');\n",
    "plt.xlabel(\"Year\");\n",
    "plt.ylabel(\"Total Number of Fires\");"
   ]
  },
  {
   "cell_type": "code",
   "execution_count": 9,
   "id": "faf4495b-65ac-44cf-a7c1-a4f91185edc4",
   "metadata": {},
   "outputs": [],
   "source": [
    "df0CauseCode = df0['Stat Cause Code']\n",
    "df1CauseCode = df1['Stat Cause Code']\n",
    "df2CauseCode = df2['Stat Cause Code']\n",
    "df3CauseCode = df3['Stat Cause Code']"
   ]
  },
  {
   "cell_type": "code",
   "execution_count": 10,
   "id": "cb0b1b3c-08bd-44ce-acdd-b4477bde7f75",
   "metadata": {},
   "outputs": [],
   "source": [
    "dfCauseCode1 = pd.concat([df0CauseCode, df1CauseCode])\n",
    "dfCauseCode2 = pd.concat([df2CauseCode, df3CauseCode])\n",
    "del df0CauseCode\n",
    "del df1CauseCode\n",
    "del df2CauseCode\n",
    "del df3CauseCode"
   ]
  },
  {
   "cell_type": "code",
   "execution_count": 11,
   "id": "1508f1de-564e-4d61-8f36-5b46df518f42",
   "metadata": {},
   "outputs": [],
   "source": [
    "dfCauseCode = pd.concat([dfCauseCode1, dfCauseCode2])\n",
    "del dfCauseCode1\n",
    "del dfCauseCode2"
   ]
  },
  {
   "cell_type": "code",
   "execution_count": 12,
   "id": "4811b7dd-f2eb-4399-a9d5-debc25ef5bf9",
   "metadata": {},
   "outputs": [
    {
     "data": {
      "image/png": "[encoded data removed]",
      "text/plain": [
       "<Figure size 432x288 with 1 Axes>"
      ]
     },
     "metadata": {
      "needs_background": "light"
     },
     "output_type": "display_data"
    }
   ],
   "source": [
    "dfCauseCode.value_counts().sort_index().plot(kind='bar');\n",
    "plt.xlabel(\"Cause Code\");\n",
    "plt.ylabel(\"Total Number of Fires\");"
   ]
  },
  {
   "cell_type": "code",
   "execution_count": 13,
   "id": "20b7f8fe-f7d0-4904-874c-a9583db781ea",
   "metadata": {},
   "outputs": [],
   "source": [
    "df0YearCause = df0[['Fire Year','Stat Cause Code']]\n",
    "df1YearCause = df1[['Fire Year','Stat Cause Code']]\n",
    "df2YearCause = df2[['Fire Year','Stat Cause Code']]\n",
    "df3YearCause = df3[['Fire Year','Stat Cause Code']]"
   ]
  },
  {
   "cell_type": "code",
   "execution_count": 14,
   "id": "27703254-f6c2-4514-ab73-649b9afff626",
   "metadata": {},
   "outputs": [],
   "source": [
    "dfYearCause1 = pd.concat([df0YearCause, df1YearCause])\n",
    "dfYearCause2 = pd.concat([df2YearCause, df3YearCause])\n",
    "dfYearCause = pd.concat([dfYearCause1, dfYearCause2])\n",
    "del df0YearCause\n",
    "del df1YearCause\n",
    "del df2YearCause\n",
    "del df3YearCause\n",
    "del dfYearCause1\n",
    "del dfYearCause2"
   ]
  },
  {
   "cell_type": "code",
   "execution_count": 16,
   "id": "3560e88c-174f-4519-867b-ab888465a59d",
   "metadata": {},
   "outputs": [
    {
     "data": {
      "image/png": "[encoded data removed]",
      "text/plain": [
       "<Figure size 432x288 with 1 Axes>"
      ]
     },
     "metadata": {
      "needs_background": "light"
     },
     "output_type": "display_data"
    }
   ],
   "source": [
    "ax = pd.crosstab(dfYearCause['Fire Year'], dfYearCause['Stat Cause Code']).plot(kind='bar', stacked=True)\n",
    "ax.legend(loc='center left', bbox_to_anchor=(1, 0.5));\n",
    "plt.ylabel(\"Total Number of Fires\");"
   ]
  },
  {
   "cell_type": "code",
   "execution_count": 17,
   "id": "e8b26c3d-2d88-43b8-a270-3c6da4c9873b",
   "metadata": {},
   "outputs": [],
   "source": [
    "# Setting up similar stacked bar graph with cause descriptions \n",
    "\n",
    "df0YearDescr = df0[['Fire Year','Stat Cause Descr']]\n",
    "df1YearDescr = df1[['Fire Year','Stat Cause Descr']]\n",
    "df2YearDescr = df2[['Fire Year','Stat Cause Descr']]\n",
    "df3YearDescr = df3[['Fire Year','Stat Cause Descr']]"
   ]
  },
  {
   "cell_type": "code",
   "execution_count": 18,
   "id": "0ecdd817-9799-4735-bd9a-b169b39036fd",
   "metadata": {},
   "outputs": [],
   "source": [
    "dfYearDescr1 = pd.concat([df0YearDescr, df1YearDescr])\n",
    "dfYearDescr2 = pd.concat([df2YearDescr, df3YearDescr])\n",
    "dfYearDescr = pd.concat([dfYearDescr1, dfYearDescr2])\n",
    "del df0YearDescr\n",
    "del df1YearDescr\n",
    "del df2YearDescr\n",
    "del df3YearDescr\n",
    "del dfYearDescr1\n",
    "del dfYearDescr2"
   ]
  },
  {
   "cell_type": "code",
   "execution_count": 19,
   "id": "13bb3024-f2a2-45ea-8c7d-b91fa565b2d0",
   "metadata": {},
   "outputs": [
    {
     "data": {
      "image/png": "[encoded data removed]",
      "text/plain": [
       "<Figure size 432x288 with 1 Axes>"
      ]
     },
     "metadata": {
      "needs_background": "light"
     },
     "output_type": "display_data"
    }
   ],
   "source": [
    "ax = pd.crosstab(dfYearDescr['Fire Year'], dfYearDescr['Stat Cause Descr']).plot(kind='bar', stacked=True)\n",
    "ax.legend(loc='center left', bbox_to_anchor=(1, 0.5));\n",
    "plt.ylabel(\"Total Number of Fires\");"
   ]
  },
  {
   "cell_type": "code",
   "execution_count": 20,
   "id": "5393100b-abc3-44c2-8893-a147bd0fac4d",
   "metadata": {},
   "outputs": [],
   "source": [
    "#working on isolating long and lat for heatmap"
   ]
  },
  {
   "cell_type": "code",
   "execution_count": 21,
   "id": "0eec3ed4-9ff3-4204-a4ad-e997588135b6",
   "metadata": {},
   "outputs": [],
   "source": [
    "df0Geo = df0[['Latitude', 'Longitude']]\n",
    "df1Geo = df1[['Latitude', 'Longitude']]\n",
    "df2Geo = df2[['Latitude', 'Longitude']]\n",
    "df3Geo = df3[['Latitude', 'Longitude']]"
   ]
  },
  {
   "cell_type": "code",
   "execution_count": 22,
   "id": "0800fbb0-4409-454c-8141-b173f28406bc",
   "metadata": {},
   "outputs": [],
   "source": [
    "dfGeo1 = pd.concat([df0Geo, df1Geo])\n",
    "dfGeo2 = pd.concat([df2Geo, df3Geo])\n",
    "dfGeo = pd.concat([dfGeo1, dfGeo2])"
   ]
  },
  {
   "cell_type": "code",
   "execution_count": null,
   "id": "100e7e27-fb68-42ae-a75d-4601481b607e",
   "metadata": {},
   "outputs": [],
   "source": []
  }
 ],
 "metadata": {
  "kernelspec": {
   "display_name": "Python 3 (ipykernel)",
   "language": "python",
   "name": "python3"
  },
  "language_info": {
   "codemirror_mode": {
    "name": "ipython",
    "version": 3
   },
   "file_extension": ".py",
   "mimetype": "text/x-python",
   "name": "python",
   "nbconvert_exporter": "python",
   "pygments_lexer": "ipython3",
   "version": "3.10.5"
  }
 },
 "nbformat": 4,
 "nbformat_minor": 5
}
