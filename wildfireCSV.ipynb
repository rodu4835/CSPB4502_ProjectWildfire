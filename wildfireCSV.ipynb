{
 "cells": [
  {
   "cell_type": "code",
   "execution_count": 1,
   "id": "ef791536-f596-40aa-9587-09a69be1385c",
   "metadata": {},
   "outputs": [],
   "source": [
    "import pandas as pd\n",
    "from matplotlib import pyplot as plt"
   ]
  },
  {
   "cell_type": "code",
   "execution_count": 2,
   "id": "47bb5944-47bb-47f9-8875-04ee1365233b",
   "metadata": {},
   "outputs": [],
   "source": [
    "df0 = pd.read_csv(\"firesCleaned_0.csv\")\n",
    "df1 = pd.read_csv(\"firesCleaned_1.csv\")\n",
    "df2 = pd.read_csv(\"firesCleaned_2.csv\")\n",
    "df3 = pd.read_csv(\"firesCleaned_3.csv\")"
   ]
  },
  {
   "cell_type": "code",
   "execution_count": 3,
   "id": "9bb6558b-de50-4bbe-a8af-4811843cde42",
   "metadata": {},
   "outputs": [],
   "source": [
    "df0Year = df0['Fire Year']\n",
    "df1Year = df1['Fire Year']\n",
    "df2Year = df2['Fire Year']\n",
    "df3Year = df3['Fire Year']"
   ]
  },
  {
   "cell_type": "code",
   "execution_count": 4,
   "id": "414afeff-d30c-40fa-8d66-1f54c2e1a848",
   "metadata": {},
   "outputs": [],
   "source": [
    "dfYear1 = pd.concat([df0Year, df1Year])\n",
    "dfYear2 = pd.concat([df2Year, df3Year])"
   ]
  },
  {
   "cell_type": "code",
   "execution_count": 5,
   "id": "a4891f1d-351f-46d0-a104-b53a9162b75f",
   "metadata": {},
   "outputs": [],
   "source": [
    "dfYear = pd.concat([dfYear1, dfYear2])"
   ]
  },
  {
   "cell_type": "code",
   "execution_count": 6,
   "id": "9d975b5c-facf-4e14-8904-fe0a6648f096",
   "metadata": {},
   "outputs": [
    {
     "data": {
      "text/plain": [
       "<AxesSubplot:>"
      ]
     },
     "execution_count": 6,
     "metadata": {},
     "output_type": "execute_result"
    },
    {
     "data": {
      "image/png": "[encoded data removed]",
      "text/plain": [
       "<Figure size 432x288 with 1 Axes>"
      ]
     },
     "metadata": {
      "needs_background": "light"
     },
     "output_type": "display_data"
    }
   ],
   "source": [
    "dfYear.value_counts().sort_index().plot(kind='bar')"
   ]
  },
  {
   "cell_type": "code",
   "execution_count": 7,
   "id": "faf4495b-65ac-44cf-a7c1-a4f91185edc4",
   "metadata": {},
   "outputs": [],
   "source": [
    "df0CauseCode = df0['Stat Cause Code']\n",
    "df1CauseCode = df1['Stat Cause Code']\n",
    "df2CauseCode = df2['Stat Cause Code']\n",
    "df3CauseCode = df3['Stat Cause Code']"
   ]
  },
  {
   "cell_type": "code",
   "execution_count": 8,
   "id": "cb0b1b3c-08bd-44ce-acdd-b4477bde7f75",
   "metadata": {},
   "outputs": [],
   "source": [
    "dfCauseCode1 = pd.concat([df0CauseCode, df1CauseCode])\n",
    "dfCauseCode2 = pd.concat([df2CauseCode, df3CauseCode])"
   ]
  },
  {
   "cell_type": "code",
   "execution_count": 9,
   "id": "1508f1de-564e-4d61-8f36-5b46df518f42",
   "metadata": {},
   "outputs": [],
   "source": [
    "dfCauseCode = pd.concat([dfCauseCode1, dfCauseCode2])"
   ]
  },
  {
   "cell_type": "code",
   "execution_count": 10,
   "id": "4811b7dd-f2eb-4399-a9d5-debc25ef5bf9",
   "metadata": {},
   "outputs": [
    {
     "data": {
      "text/plain": [
       "<AxesSubplot:>"
      ]
     },
     "execution_count": 10,
     "metadata": {},
     "output_type": "execute_result"
    },
    {
     "data": {
      "image/png": "[encoded data removed]",
      "text/plain": [
       "<Figure size 432x288 with 1 Axes>"
      ]
     },
     "metadata": {
      "needs_background": "light"
     },
     "output_type": "display_data"
    }
   ],
   "source": [
    "dfCauseCode.value_counts().sort_index().plot(kind='bar')"
   ]
  },
  {
   "cell_type": "code",
   "execution_count": 11,
   "id": "20b7f8fe-f7d0-4904-874c-a9583db781ea",
   "metadata": {},
   "outputs": [],
   "source": [
    "df0YearCause = df0[['Fire Year','Stat Cause Code']]\n",
    "df1YearCause = df1[['Fire Year','Stat Cause Code']]\n",
    "df2YearCause = df2[['Fire Year','Stat Cause Code']]\n",
    "df3YearCause = df3[['Fire Year','Stat Cause Code']]"
   ]
  },
  {
   "cell_type": "code",
   "execution_count": 12,
   "id": "27703254-f6c2-4514-ab73-649b9afff626",
   "metadata": {},
   "outputs": [],
   "source": [
    "dfYearCause1 = pd.concat([df0YearCause, df1YearCause])\n",
    "dfYearCause2 = pd.concat([df2YearCause, df3YearCause])\n",
    "dfYearCause = pd.concat([dfYearCause1, dfYearCause2])"
   ]
  },
  {
   "cell_type": "code",
   "execution_count": 13,
   "id": "3560e88c-174f-4519-867b-ab888465a59d",
   "metadata": {},
   "outputs": [
    {
     "data": {
      "text/plain": [
       "<matplotlib.legend.Legend at 0x7f0ed82f4af0>"
      ]
     },
     "execution_count": 13,
     "metadata": {},
     "output_type": "execute_result"
    },
    {
     "data": {
      "image/png": "[encoded data removed]",
      "text/plain": [
       "<Figure size 432x288 with 1 Axes>"
      ]
     },
     "metadata": {
      "needs_background": "light"
     },
     "output_type": "display_data"
    }
   ],
   "source": [
    "ax = pd.crosstab(dfYearCause['Fire Year'], dfYearCause['Stat Cause Code']).plot(kind='bar', stacked=True)\n",
    "ax.legend(loc='center left', bbox_to_anchor=(1, 0.5))"
   ]
  },
  {
   "cell_type": "code",
   "execution_count": null,
   "id": "5393100b-abc3-44c2-8893-a147bd0fac4d",
   "metadata": {},
   "outputs": [],
   "source": [
    "#working on isolating long and lat for heatmap"
   ]
  },
  {
   "cell_type": "code",
   "execution_count": 14,
   "id": "0eec3ed4-9ff3-4204-a4ad-e997588135b6",
   "metadata": {},
   "outputs": [],
   "source": [
    "df0Geo = df0[['Latitude', 'Longitude']]\n",
    "df1Geo = df1[['Latitude', 'Longitude']]\n",
    "df2Geo = df2[['Latitude', 'Longitude']]\n",
    "df3Geo = df3[['Latitude', 'Longitude']]"
   ]
  },
  {
   "cell_type": "code",
   "execution_count": 15,
   "id": "0800fbb0-4409-454c-8141-b173f28406bc",
   "metadata": {},
   "outputs": [],
   "source": [
    "dfGeo1 = pd.concat([df0Geo, df1Geo])\n",
    "dfGeo2 = pd.concat([df2Geo, df3Geo])\n",
    "dfGeo = pd.concat([dfGeo1, dfGeo2])"
   ]
  },
  {
   "cell_type": "code",
   "execution_count": null,
   "id": "2315e6f5-fab4-47f9-a172-9efcd7588f3a",
   "metadata": {},
   "outputs": [],
   "source": []
  },
  {
   "cell_type": "code",
   "execution_count": null,
   "id": "8dc911a7-03c5-443f-b479-3337584fc605",
   "metadata": {},
   "outputs": [],
   "source": []
  }
 ],
 "metadata": {
  "kernelspec": {
   "display_name": "Python 3 (ipykernel)",
   "language": "python",
   "name": "python3"
  },
  "language_info": {
   "codemirror_mode": {
    "name": "ipython",
    "version": 3
   },
   "file_extension": ".py",
   "mimetype": "text/x-python",
   "name": "python",
   "nbconvert_exporter": "python",
   "pygments_lexer": "ipython3",
   "version": "3.10.5"
  }
 },
 "nbformat": 4,
 "nbformat_minor": 5
}
