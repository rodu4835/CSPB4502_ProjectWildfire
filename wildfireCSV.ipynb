{
 "cells": [
  {
   "cell_type": "markdown",
   "id": "662732e9-70b9-4ec7-8cbc-d0cf0767af4d",
   "metadata": {},
   "source": [
    "# CSPB 4502 - Final Project - Project Wildfire\n",
    "### Group 3 - Natalie Dreher, Ronald Durham, and Grant Fairbairn"
   ]
  },
  {
   "cell_type": "code",
   "execution_count": 2,
   "id": "ef791536-f596-40aa-9587-09a69be1385c",
   "metadata": {},
   "outputs": [],
   "source": [
    "import pandas as pd\n",
    "import numpy as np\n",
    "from matplotlib import pyplot as plt\n",
    "import seaborn as sns\n",
    "import scipy as sp\n",
    "import scipy.stats as stats\n",
    "# Set color map to have light blue background\n",
    "sns.set()\n",
    "import statsmodels.formula.api as smf\n",
    "import statsmodels.api as sm\n",
    "from statistics import mean"
   ]
  },
  {
   "cell_type": "code",
   "execution_count": 3,
   "id": "47bb5944-47bb-47f9-8875-04ee1365233b",
   "metadata": {},
   "outputs": [],
   "source": [
    "# Create data frames from the four CSV files. These will be used to create new DFs below.\n",
    "df0 = pd.read_csv(\"firesCleaned_0.csv\")\n",
    "df1 = pd.read_csv(\"firesCleaned_1.csv\")\n",
    "df2 = pd.read_csv(\"firesCleaned_2.csv\")\n",
    "df3 = pd.read_csv(\"firesCleaned_3.csv\")"
   ]
  },
  {
   "cell_type": "code",
   "execution_count": 3,
   "id": "3e6c5b98-a22f-4b91-8997-afdaf6bf2cc4",
   "metadata": {},
   "outputs": [
    {
     "data": {
      "text/html": [
       "<div>\n",
       "<style scoped>\n",
       "    .dataframe tbody tr th:only-of-type {\n",
       "        vertical-align: middle;\n",
       "    }\n",
       "\n",
       "    .dataframe tbody tr th {\n",
       "        vertical-align: top;\n",
       "    }\n",
       "\n",
       "    .dataframe thead th {\n",
       "        text-align: right;\n",
       "    }\n",
       "</style>\n",
       "<table border=\"1\" class=\"dataframe\">\n",
       "  <thead>\n",
       "    <tr style=\"text-align: right;\">\n",
       "      <th></th>\n",
       "      <th>Fire Size Class</th>\n",
       "      <th>Fire Year</th>\n",
       "      <th>Owner Code</th>\n",
       "      <th>Owner Descr</th>\n",
       "      <th>Stat Cause Code</th>\n",
       "      <th>Stat Cause Descr</th>\n",
       "      <th>State</th>\n",
       "      <th>Cont Date</th>\n",
       "      <th>Cont Doy</th>\n",
       "      <th>Cont Time</th>\n",
       "      <th>Discovery Date</th>\n",
       "      <th>Discovery Doy</th>\n",
       "      <th>Discovery Time</th>\n",
       "      <th>Fire Size</th>\n",
       "      <th>Latitude</th>\n",
       "      <th>Longitude</th>\n",
       "      <th>Objectid</th>\n",
       "    </tr>\n",
       "  </thead>\n",
       "  <tbody>\n",
       "    <tr>\n",
       "      <th>0</th>\n",
       "      <td>A</td>\n",
       "      <td>2000</td>\n",
       "      <td>1</td>\n",
       "      <td>BLM</td>\n",
       "      <td>1</td>\n",
       "      <td>Lightning</td>\n",
       "      <td>CO</td>\n",
       "      <td>2451724.5</td>\n",
       "      <td>181.0</td>\n",
       "      <td>1235.0</td>\n",
       "      <td>2451723.5</td>\n",
       "      <td>180</td>\n",
       "      <td>1556.0</td>\n",
       "      <td>0.10</td>\n",
       "      <td>37.321900</td>\n",
       "      <td>-108.443700</td>\n",
       "      <td>351622</td>\n",
       "    </tr>\n",
       "    <tr>\n",
       "      <th>1</th>\n",
       "      <td>A</td>\n",
       "      <td>2000</td>\n",
       "      <td>1</td>\n",
       "      <td>BLM</td>\n",
       "      <td>1</td>\n",
       "      <td>Lightning</td>\n",
       "      <td>CO</td>\n",
       "      <td>2451757.5</td>\n",
       "      <td>214.0</td>\n",
       "      <td>1400.0</td>\n",
       "      <td>2451757.5</td>\n",
       "      <td>214</td>\n",
       "      <td>1300.0</td>\n",
       "      <td>0.10</td>\n",
       "      <td>37.250600</td>\n",
       "      <td>-108.345100</td>\n",
       "      <td>351635</td>\n",
       "    </tr>\n",
       "    <tr>\n",
       "      <th>2</th>\n",
       "      <td>A</td>\n",
       "      <td>2000</td>\n",
       "      <td>1</td>\n",
       "      <td>BLM</td>\n",
       "      <td>1</td>\n",
       "      <td>Lightning</td>\n",
       "      <td>UT</td>\n",
       "      <td>2451752.5</td>\n",
       "      <td>209.0</td>\n",
       "      <td>1600.0</td>\n",
       "      <td>2451751.5</td>\n",
       "      <td>208</td>\n",
       "      <td>1700.0</td>\n",
       "      <td>0.10</td>\n",
       "      <td>38.533350</td>\n",
       "      <td>-109.797600</td>\n",
       "      <td>353105</td>\n",
       "    </tr>\n",
       "    <tr>\n",
       "      <th>3</th>\n",
       "      <td>A</td>\n",
       "      <td>2001</td>\n",
       "      <td>1</td>\n",
       "      <td>BLM</td>\n",
       "      <td>1</td>\n",
       "      <td>Lightning</td>\n",
       "      <td>CO</td>\n",
       "      <td>2452092.5</td>\n",
       "      <td>183.0</td>\n",
       "      <td>1400.0</td>\n",
       "      <td>2452091.5</td>\n",
       "      <td>182</td>\n",
       "      <td>1000.0</td>\n",
       "      <td>0.20</td>\n",
       "      <td>37.230000</td>\n",
       "      <td>-108.327300</td>\n",
       "      <td>351654</td>\n",
       "    </tr>\n",
       "    <tr>\n",
       "      <th>4</th>\n",
       "      <td>A</td>\n",
       "      <td>2001</td>\n",
       "      <td>1</td>\n",
       "      <td>BLM</td>\n",
       "      <td>1</td>\n",
       "      <td>Lightning</td>\n",
       "      <td>CO</td>\n",
       "      <td>2452098.5</td>\n",
       "      <td>189.0</td>\n",
       "      <td>30.0</td>\n",
       "      <td>2452097.5</td>\n",
       "      <td>188</td>\n",
       "      <td>2000.0</td>\n",
       "      <td>0.10</td>\n",
       "      <td>40.244280</td>\n",
       "      <td>-108.923400</td>\n",
       "      <td>351443</td>\n",
       "    </tr>\n",
       "    <tr>\n",
       "      <th>...</th>\n",
       "      <td>...</td>\n",
       "      <td>...</td>\n",
       "      <td>...</td>\n",
       "      <td>...</td>\n",
       "      <td>...</td>\n",
       "      <td>...</td>\n",
       "      <td>...</td>\n",
       "      <td>...</td>\n",
       "      <td>...</td>\n",
       "      <td>...</td>\n",
       "      <td>...</td>\n",
       "      <td>...</td>\n",
       "      <td>...</td>\n",
       "      <td>...</td>\n",
       "      <td>...</td>\n",
       "      <td>...</td>\n",
       "      <td>...</td>\n",
       "    </tr>\n",
       "    <tr>\n",
       "      <th>499995</th>\n",
       "      <td>A</td>\n",
       "      <td>2006</td>\n",
       "      <td>14</td>\n",
       "      <td>MISSING/NOT SPECIFIED</td>\n",
       "      <td>5</td>\n",
       "      <td>Debris Burning</td>\n",
       "      <td>GA</td>\n",
       "      <td>NaN</td>\n",
       "      <td>NaN</td>\n",
       "      <td>NaN</td>\n",
       "      <td>2454087.5</td>\n",
       "      <td>352</td>\n",
       "      <td>NaN</td>\n",
       "      <td>0.13</td>\n",
       "      <td>34.434653</td>\n",
       "      <td>-83.176685</td>\n",
       "      <td>436422</td>\n",
       "    </tr>\n",
       "    <tr>\n",
       "      <th>499996</th>\n",
       "      <td>A</td>\n",
       "      <td>2006</td>\n",
       "      <td>14</td>\n",
       "      <td>MISSING/NOT SPECIFIED</td>\n",
       "      <td>5</td>\n",
       "      <td>Debris Burning</td>\n",
       "      <td>GA</td>\n",
       "      <td>NaN</td>\n",
       "      <td>NaN</td>\n",
       "      <td>NaN</td>\n",
       "      <td>2454087.5</td>\n",
       "      <td>352</td>\n",
       "      <td>NaN</td>\n",
       "      <td>0.14</td>\n",
       "      <td>31.337671</td>\n",
       "      <td>-82.847888</td>\n",
       "      <td>442220</td>\n",
       "    </tr>\n",
       "    <tr>\n",
       "      <th>499997</th>\n",
       "      <td>A</td>\n",
       "      <td>2006</td>\n",
       "      <td>14</td>\n",
       "      <td>MISSING/NOT SPECIFIED</td>\n",
       "      <td>5</td>\n",
       "      <td>Debris Burning</td>\n",
       "      <td>GA</td>\n",
       "      <td>NaN</td>\n",
       "      <td>NaN</td>\n",
       "      <td>NaN</td>\n",
       "      <td>2454087.5</td>\n",
       "      <td>352</td>\n",
       "      <td>NaN</td>\n",
       "      <td>0.22</td>\n",
       "      <td>32.505170</td>\n",
       "      <td>-82.607000</td>\n",
       "      <td>438068</td>\n",
       "    </tr>\n",
       "    <tr>\n",
       "      <th>499998</th>\n",
       "      <td>A</td>\n",
       "      <td>2006</td>\n",
       "      <td>14</td>\n",
       "      <td>MISSING/NOT SPECIFIED</td>\n",
       "      <td>5</td>\n",
       "      <td>Debris Burning</td>\n",
       "      <td>GA</td>\n",
       "      <td>NaN</td>\n",
       "      <td>NaN</td>\n",
       "      <td>NaN</td>\n",
       "      <td>2454088.5</td>\n",
       "      <td>353</td>\n",
       "      <td>NaN</td>\n",
       "      <td>0.01</td>\n",
       "      <td>31.422744</td>\n",
       "      <td>-82.730918</td>\n",
       "      <td>442837</td>\n",
       "    </tr>\n",
       "    <tr>\n",
       "      <th>499999</th>\n",
       "      <td>A</td>\n",
       "      <td>2006</td>\n",
       "      <td>14</td>\n",
       "      <td>MISSING/NOT SPECIFIED</td>\n",
       "      <td>5</td>\n",
       "      <td>Debris Burning</td>\n",
       "      <td>GA</td>\n",
       "      <td>NaN</td>\n",
       "      <td>NaN</td>\n",
       "      <td>NaN</td>\n",
       "      <td>2454088.5</td>\n",
       "      <td>353</td>\n",
       "      <td>NaN</td>\n",
       "      <td>0.04</td>\n",
       "      <td>32.174177</td>\n",
       "      <td>-82.206520</td>\n",
       "      <td>437993</td>\n",
       "    </tr>\n",
       "  </tbody>\n",
       "</table>\n",
       "<p>500000 rows × 17 columns</p>\n",
       "</div>"
      ],
      "text/plain": [
       "       Fire Size Class  Fire Year  Owner Code            Owner Descr  \\\n",
       "0                    A       2000           1                    BLM   \n",
       "1                    A       2000           1                    BLM   \n",
       "2                    A       2000           1                    BLM   \n",
       "3                    A       2001           1                    BLM   \n",
       "4                    A       2001           1                    BLM   \n",
       "...                ...        ...         ...                    ...   \n",
       "499995               A       2006          14  MISSING/NOT SPECIFIED   \n",
       "499996               A       2006          14  MISSING/NOT SPECIFIED   \n",
       "499997               A       2006          14  MISSING/NOT SPECIFIED   \n",
       "499998               A       2006          14  MISSING/NOT SPECIFIED   \n",
       "499999               A       2006          14  MISSING/NOT SPECIFIED   \n",
       "\n",
       "        Stat Cause Code Stat Cause Descr State  Cont Date  Cont Doy  \\\n",
       "0                     1        Lightning    CO  2451724.5     181.0   \n",
       "1                     1        Lightning    CO  2451757.5     214.0   \n",
       "2                     1        Lightning    UT  2451752.5     209.0   \n",
       "3                     1        Lightning    CO  2452092.5     183.0   \n",
       "4                     1        Lightning    CO  2452098.5     189.0   \n",
       "...                 ...              ...   ...        ...       ...   \n",
       "499995                5   Debris Burning    GA        NaN       NaN   \n",
       "499996                5   Debris Burning    GA        NaN       NaN   \n",
       "499997                5   Debris Burning    GA        NaN       NaN   \n",
       "499998                5   Debris Burning    GA        NaN       NaN   \n",
       "499999                5   Debris Burning    GA        NaN       NaN   \n",
       "\n",
       "        Cont Time  Discovery Date  Discovery Doy  Discovery Time  Fire Size  \\\n",
       "0          1235.0       2451723.5            180          1556.0       0.10   \n",
       "1          1400.0       2451757.5            214          1300.0       0.10   \n",
       "2          1600.0       2451751.5            208          1700.0       0.10   \n",
       "3          1400.0       2452091.5            182          1000.0       0.20   \n",
       "4            30.0       2452097.5            188          2000.0       0.10   \n",
       "...           ...             ...            ...             ...        ...   \n",
       "499995        NaN       2454087.5            352             NaN       0.13   \n",
       "499996        NaN       2454087.5            352             NaN       0.14   \n",
       "499997        NaN       2454087.5            352             NaN       0.22   \n",
       "499998        NaN       2454088.5            353             NaN       0.01   \n",
       "499999        NaN       2454088.5            353             NaN       0.04   \n",
       "\n",
       "         Latitude   Longitude  Objectid  \n",
       "0       37.321900 -108.443700    351622  \n",
       "1       37.250600 -108.345100    351635  \n",
       "2       38.533350 -109.797600    353105  \n",
       "3       37.230000 -108.327300    351654  \n",
       "4       40.244280 -108.923400    351443  \n",
       "...           ...         ...       ...  \n",
       "499995  34.434653  -83.176685    436422  \n",
       "499996  31.337671  -82.847888    442220  \n",
       "499997  32.505170  -82.607000    438068  \n",
       "499998  31.422744  -82.730918    442837  \n",
       "499999  32.174177  -82.206520    437993  \n",
       "\n",
       "[500000 rows x 17 columns]"
      ]
     },
     "execution_count": 3,
     "metadata": {},
     "output_type": "execute_result"
    }
   ],
   "source": [
    "# Visualizing the dataframe for the first 500K entries\n",
    "df0"
   ]
  },
  {
   "cell_type": "code",
   "execution_count": 4,
   "id": "9bb6558b-de50-4bbe-a8af-4811843cde42",
   "metadata": {},
   "outputs": [],
   "source": [
    "# Creating smaller dataframes to analyze\n",
    "\n",
    "df0Year = df0['Fire Year']\n",
    "df1Year = df1['Fire Year']\n",
    "df2Year = df2['Fire Year']\n",
    "df3Year = df3['Fire Year']"
   ]
  },
  {
   "cell_type": "code",
   "execution_count": 5,
   "id": "414afeff-d30c-40fa-8d66-1f54c2e1a848",
   "metadata": {},
   "outputs": [],
   "source": [
    "dfYear1 = pd.concat([df0Year, df1Year])\n",
    "dfYear2 = pd.concat([df2Year, df3Year])\n",
    "\n",
    "# Deleting subparts as we go to save memory\n",
    "del df0Year\n",
    "del df1Year\n",
    "del df2Year\n",
    "del df3Year"
   ]
  },
  {
   "cell_type": "code",
   "execution_count": 6,
   "id": "a4891f1d-351f-46d0-a104-b53a9162b75f",
   "metadata": {},
   "outputs": [],
   "source": [
    "dfYear = pd.concat([dfYear1, dfYear2])\n",
    "del dfYear1\n",
    "del dfYear2"
   ]
  },
  {
   "cell_type": "code",
   "execution_count": 7,
   "id": "9d975b5c-facf-4e14-8904-fe0a6648f096",
   "metadata": {},
   "outputs": [
    {
     "data": {
      "image/png": "[encoded data removed]",
      "text/plain": [
       "<Figure size 432x288 with 1 Axes>"
      ]
     },
     "metadata": {
      "needs_background": "light"
     },
     "output_type": "display_data"
    }
   ],
   "source": [
    "dfYear.value_counts().sort_index().plot(kind='bar');\n",
    "plt.xlabel(\"Year\");\n",
    "plt.ylabel(\"Total Number of Fires\");"
   ]
  },
  {
   "cell_type": "code",
   "execution_count": 8,
   "id": "71be7c49-1756-484a-8a52-750d1eca85b9",
   "metadata": {},
   "outputs": [
    {
     "name": "stdout",
     "output_type": "stream",
     "text": [
      "    Year   Fires\n",
      "0   1992   67975\n",
      "1   1993   61989\n",
      "2   1994   75955\n",
      "3   1995   71473\n",
      "4   1996   75574\n",
      "5   1997   61450\n",
      "6   1998   68370\n",
      "7   1999   89363\n",
      "8   2000   96416\n",
      "9   2001   86587\n",
      "10  2002   75656\n",
      "11  2003   68261\n",
      "12  2004   69279\n",
      "13  2005   88604\n",
      "14  2006  114006\n",
      "15  2007   95573\n",
      "16  2008   85378\n",
      "17  2009   78325\n",
      "18  2010   79889\n",
      "19  2011   90552\n",
      "20  2012   72769\n",
      "21  2013   64780\n",
      "22  2014   67753\n",
      "23  2015   74491\n"
     ]
    }
   ],
   "source": [
    "# Creating a new dataframe holding the years and total fires per year\n",
    "\n",
    "df = dfYear.value_counts().rename_axis('Year').reset_index(name='Fires')\n",
    "df = df.sort_values('Year', ignore_index=True)\n",
    "print(df)"
   ]
  },
  {
   "cell_type": "code",
   "execution_count": 9,
   "id": "2b696b73-91c3-4e2e-9243-13b8bc9652ef",
   "metadata": {},
   "outputs": [
    {
     "data": {
      "image/png": "[encoded data removed]",
      "text/plain": [
       "<Figure size 1080x576 with 1 Axes>"
      ]
     },
     "metadata": {
      "needs_background": "light"
     },
     "output_type": "display_data"
    }
   ],
   "source": [
    "# Creating a model and scatterplot with regression line from the model\n",
    "\n",
    "model = smf.ols('Fires ~ Year', df).fit()\n",
    "\n",
    "beta0,beta1 = model.params\n",
    "plt.figure(figsize=(15,8))\n",
    "plt.plot(df[\"Year\"], df[\"Fires\"], 'ro');\n",
    "xticks = np.linspace(1992,2015,10000)\n",
    "plt.plot(xticks, beta0 + beta1 * xticks, lw=5)\n",
    "plt.xlabel('Year')\n",
    "plt.ylabel('Total Number of Fires');"
   ]
  },
  {
   "cell_type": "code",
   "execution_count": 10,
   "id": "93b92da9-b673-4cd6-b8a1-9d6745d1ab82",
   "metadata": {},
   "outputs": [
    {
     "data": {
      "text/html": [
       "<table class=\"simpletable\">\n",
       "<caption>OLS Regression Results</caption>\n",
       "<tr>\n",
       "  <th>Dep. Variable:</th>          <td>Fires</td>      <th>  R-squared:         </th> <td>   0.036</td>\n",
       "</tr>\n",
       "<tr>\n",
       "  <th>Model:</th>                   <td>OLS</td>       <th>  Adj. R-squared:    </th> <td>  -0.008</td>\n",
       "</tr>\n",
       "<tr>\n",
       "  <th>Method:</th>             <td>Least Squares</td>  <th>  F-statistic:       </th> <td>  0.8265</td>\n",
       "</tr>\n",
       "<tr>\n",
       "  <th>Date:</th>             <td>Tue, 29 Nov 2022</td> <th>  Prob (F-statistic):</th>  <td> 0.373</td> \n",
       "</tr>\n",
       "<tr>\n",
       "  <th>Time:</th>                 <td>03:12:12</td>     <th>  Log-Likelihood:    </th> <td> -260.00</td>\n",
       "</tr>\n",
       "<tr>\n",
       "  <th>No. Observations:</th>      <td>    24</td>      <th>  AIC:               </th> <td>   524.0</td>\n",
       "</tr>\n",
       "<tr>\n",
       "  <th>Df Residuals:</th>          <td>    22</td>      <th>  BIC:               </th> <td>   526.4</td>\n",
       "</tr>\n",
       "<tr>\n",
       "  <th>Df Model:</th>              <td>     1</td>      <th>                     </th>     <td> </td>   \n",
       "</tr>\n",
       "<tr>\n",
       "  <th>Covariance Type:</th>      <td>nonrobust</td>    <th>                     </th>     <td> </td>   \n",
       "</tr>\n",
       "</table>\n",
       "<table class=\"simpletable\">\n",
       "<tr>\n",
       "      <td></td>         <th>coef</th>     <th>std err</th>      <th>t</th>      <th>P>|t|</th>  <th>[0.025</th>    <th>0.975]</th>  \n",
       "</tr>\n",
       "<tr>\n",
       "  <th>Intercept</th> <td>-6.095e+05</td> <td> 7.57e+05</td> <td>   -0.806</td> <td> 0.429</td> <td>-2.18e+06</td> <td>  9.6e+05</td>\n",
       "</tr>\n",
       "<tr>\n",
       "  <th>Year</th>      <td>  343.3443</td> <td>  377.678</td> <td>    0.909</td> <td> 0.373</td> <td> -439.911</td> <td> 1126.600</td>\n",
       "</tr>\n",
       "</table>\n",
       "<table class=\"simpletable\">\n",
       "<tr>\n",
       "  <th>Omnibus:</th>       <td> 5.718</td> <th>  Durbin-Watson:     </th> <td>   0.925</td>\n",
       "</tr>\n",
       "<tr>\n",
       "  <th>Prob(Omnibus):</th> <td> 0.057</td> <th>  Jarque-Bera (JB):  </th> <td>   3.859</td>\n",
       "</tr>\n",
       "<tr>\n",
       "  <th>Skew:</th>          <td> 0.938</td> <th>  Prob(JB):          </th> <td>   0.145</td>\n",
       "</tr>\n",
       "<tr>\n",
       "  <th>Kurtosis:</th>      <td> 3.585</td> <th>  Cond. No.          </th> <td>5.80e+05</td>\n",
       "</tr>\n",
       "</table><br/><br/>Notes:<br/>[1] Standard Errors assume that the covariance matrix of the errors is correctly specified.<br/>[2] The condition number is large, 5.8e+05. This might indicate that there are<br/>strong multicollinearity or other numerical problems."
      ],
      "text/plain": [
       "<class 'statsmodels.iolib.summary.Summary'>\n",
       "\"\"\"\n",
       "                            OLS Regression Results                            \n",
       "==============================================================================\n",
       "Dep. Variable:                  Fires   R-squared:                       0.036\n",
       "Model:                            OLS   Adj. R-squared:                 -0.008\n",
       "Method:                 Least Squares   F-statistic:                    0.8265\n",
       "Date:                Tue, 29 Nov 2022   Prob (F-statistic):              0.373\n",
       "Time:                        03:12:12   Log-Likelihood:                -260.00\n",
       "No. Observations:                  24   AIC:                             524.0\n",
       "Df Residuals:                      22   BIC:                             526.4\n",
       "Df Model:                           1                                         \n",
       "Covariance Type:            nonrobust                                         \n",
       "==============================================================================\n",
       "                 coef    std err          t      P>|t|      [0.025      0.975]\n",
       "------------------------------------------------------------------------------\n",
       "Intercept  -6.095e+05   7.57e+05     -0.806      0.429   -2.18e+06     9.6e+05\n",
       "Year         343.3443    377.678      0.909      0.373    -439.911    1126.600\n",
       "==============================================================================\n",
       "Omnibus:                        5.718   Durbin-Watson:                   0.925\n",
       "Prob(Omnibus):                  0.057   Jarque-Bera (JB):                3.859\n",
       "Skew:                           0.938   Prob(JB):                        0.145\n",
       "Kurtosis:                       3.585   Cond. No.                     5.80e+05\n",
       "==============================================================================\n",
       "\n",
       "Notes:\n",
       "[1] Standard Errors assume that the covariance matrix of the errors is correctly specified.\n",
       "[2] The condition number is large, 5.8e+05. This might indicate that there are\n",
       "strong multicollinearity or other numerical problems.\n",
       "\"\"\""
      ]
     },
     "execution_count": 10,
     "metadata": {},
     "output_type": "execute_result"
    }
   ],
   "source": [
    "# While the regression line in the scatterplot suggests a slight positive correlation between years and total number of fires (i.e. that fires are increasing in number over time)\n",
    "# the regression summary shows that the R-squared value is very low at 0.036, the p-value is well above 0.05, and the confidence interval for Year includes 0.\n",
    "# This suggests that the Year is not a predictor of number of fires.\n",
    "\n",
    "# That makes sense looking at the scatterplot, because the number of fires jumps around and the results are diffuse. \n",
    "\n",
    "model.summary()"
   ]
  },
  {
   "cell_type": "code",
   "execution_count": 11,
   "id": "faf4495b-65ac-44cf-a7c1-a4f91185edc4",
   "metadata": {},
   "outputs": [],
   "source": [
    "df0CauseCode = df0['Stat Cause Code']\n",
    "df1CauseCode = df1['Stat Cause Code']\n",
    "df2CauseCode = df2['Stat Cause Code']\n",
    "df3CauseCode = df3['Stat Cause Code']"
   ]
  },
  {
   "cell_type": "code",
   "execution_count": 12,
   "id": "cb0b1b3c-08bd-44ce-acdd-b4477bde7f75",
   "metadata": {},
   "outputs": [],
   "source": [
    "dfCauseCode1 = pd.concat([df0CauseCode, df1CauseCode])\n",
    "dfCauseCode2 = pd.concat([df2CauseCode, df3CauseCode])\n",
    "del df0CauseCode\n",
    "del df1CauseCode\n",
    "del df2CauseCode\n",
    "del df3CauseCode"
   ]
  },
  {
   "cell_type": "code",
   "execution_count": 13,
   "id": "1508f1de-564e-4d61-8f36-5b46df518f42",
   "metadata": {},
   "outputs": [],
   "source": [
    "dfCauseCode = pd.concat([dfCauseCode1, dfCauseCode2])\n",
    "del dfCauseCode1\n",
    "del dfCauseCode2"
   ]
  },
  {
   "cell_type": "code",
   "execution_count": 14,
   "id": "4811b7dd-f2eb-4399-a9d5-debc25ef5bf9",
   "metadata": {},
   "outputs": [
    {
     "data": {
      "image/png": "[encoded data removed]",
      "text/plain": [
       "<Figure size 432x288 with 1 Axes>"
      ]
     },
     "metadata": {
      "needs_background": "light"
     },
     "output_type": "display_data"
    }
   ],
   "source": [
    "dfCauseCode.value_counts().sort_index().plot(kind='bar');\n",
    "plt.xlabel(\"Cause Code\");\n",
    "plt.ylabel(\"Total Number of Fires\");"
   ]
  },
  {
   "cell_type": "code",
   "execution_count": 15,
   "id": "20b7f8fe-f7d0-4904-874c-a9583db781ea",
   "metadata": {},
   "outputs": [],
   "source": [
    "df0YearCause = df0[['Fire Year','Stat Cause Code']]\n",
    "df1YearCause = df1[['Fire Year','Stat Cause Code']]\n",
    "df2YearCause = df2[['Fire Year','Stat Cause Code']]\n",
    "df3YearCause = df3[['Fire Year','Stat Cause Code']]"
   ]
  },
  {
   "cell_type": "code",
   "execution_count": 16,
   "id": "27703254-f6c2-4514-ab73-649b9afff626",
   "metadata": {},
   "outputs": [],
   "source": [
    "dfYearCause1 = pd.concat([df0YearCause, df1YearCause])\n",
    "dfYearCause2 = pd.concat([df2YearCause, df3YearCause])\n",
    "dfYearCause = pd.concat([dfYearCause1, dfYearCause2])\n",
    "del df0YearCause\n",
    "del df1YearCause\n",
    "del df2YearCause\n",
    "del df3YearCause\n",
    "del dfYearCause1\n",
    "del dfYearCause2"
   ]
  },
  {
   "cell_type": "code",
   "execution_count": 17,
   "id": "3560e88c-174f-4519-867b-ab888465a59d",
   "metadata": {},
   "outputs": [
    {
     "data": {
      "image/png": "[encoded data removed]",
      "text/plain": [
       "<Figure size 432x288 with 1 Axes>"
      ]
     },
     "metadata": {
      "needs_background": "light"
     },
     "output_type": "display_data"
    }
   ],
   "source": [
    "ax = pd.crosstab(dfYearCause['Fire Year'], dfYearCause['Stat Cause Code']).plot(kind='bar', stacked=True)\n",
    "ax.legend(loc='center left', bbox_to_anchor=(1, 0.5));\n",
    "plt.ylabel(\"Total Number of Fires\");"
   ]
  },
  {
   "cell_type": "code",
   "execution_count": 18,
   "id": "e8b26c3d-2d88-43b8-a270-3c6da4c9873b",
   "metadata": {},
   "outputs": [],
   "source": [
    "# Setting up similar stacked bar graph with cause descriptions \n",
    "\n",
    "df0YearDescr = df0[['Fire Year','Stat Cause Descr']]\n",
    "df1YearDescr = df1[['Fire Year','Stat Cause Descr']]\n",
    "df2YearDescr = df2[['Fire Year','Stat Cause Descr']]\n",
    "df3YearDescr = df3[['Fire Year','Stat Cause Descr']]"
   ]
  },
  {
   "cell_type": "code",
   "execution_count": 19,
   "id": "0ecdd817-9799-4735-bd9a-b169b39036fd",
   "metadata": {},
   "outputs": [],
   "source": [
    "dfYearDescr1 = pd.concat([df0YearDescr, df1YearDescr])\n",
    "dfYearDescr2 = pd.concat([df2YearDescr, df3YearDescr])\n",
    "dfYearDescr = pd.concat([dfYearDescr1, dfYearDescr2])\n",
    "del df0YearDescr\n",
    "del df1YearDescr\n",
    "del df2YearDescr\n",
    "del df3YearDescr\n",
    "del dfYearDescr1\n",
    "del dfYearDescr2"
   ]
  },
  {
   "cell_type": "code",
   "execution_count": 20,
   "id": "13bb3024-f2a2-45ea-8c7d-b91fa565b2d0",
   "metadata": {},
   "outputs": [
    {
     "data": {
      "image/png": "[encoded data removed]",
      "text/plain": [
       "<Figure size 432x288 with 1 Axes>"
      ]
     },
     "metadata": {
      "needs_background": "light"
     },
     "output_type": "display_data"
    }
   ],
   "source": [
    "ax = pd.crosstab(dfYearDescr['Fire Year'], dfYearDescr['Stat Cause Descr']).plot(kind='bar', stacked=True)\n",
    "ax.legend(loc='center left', bbox_to_anchor=(1, 0.5));\n",
    "plt.ylabel(\"Total Number of Fires\");"
   ]
  },
  {
   "cell_type": "code",
   "execution_count": 21,
   "id": "5393100b-abc3-44c2-8893-a147bd0fac4d",
   "metadata": {},
   "outputs": [],
   "source": [
    "#working on isolating long and lat for heatmap"
   ]
  },
  {
   "cell_type": "code",
   "execution_count": 22,
   "id": "0eec3ed4-9ff3-4204-a4ad-e997588135b6",
   "metadata": {},
   "outputs": [],
   "source": [
    "df0Geo = df0[['Latitude', 'Longitude']]\n",
    "df1Geo = df1[['Latitude', 'Longitude']]\n",
    "df2Geo = df2[['Latitude', 'Longitude']]\n",
    "df3Geo = df3[['Latitude', 'Longitude']]"
   ]
  },
  {
   "cell_type": "code",
   "execution_count": 23,
   "id": "0800fbb0-4409-454c-8141-b173f28406bc",
   "metadata": {},
   "outputs": [],
   "source": [
    "dfGeo1 = pd.concat([df0Geo, df1Geo])\n",
    "dfGeo2 = pd.concat([df2Geo, df3Geo])\n",
    "dfGeo = pd.concat([dfGeo1, dfGeo2])"
   ]
  },
  {
   "cell_type": "markdown",
   "id": "4151c19b-f576-473c-969e-38320ace9a9b",
   "metadata": {},
   "source": [
    "## Finding the Average Fire Size By Cause"
   ]
  },
  {
   "cell_type": "code",
   "execution_count": 12,
   "id": "100e7e27-fb68-42ae-a75d-4601481b607e",
   "metadata": {},
   "outputs": [],
   "source": [
    "# Create data frames from the existing subframes with the two columns we need.\n",
    "df0Cause = df0[['Stat Cause Descr','Fire Size']]\n",
    "df1Cause = df1[['Stat Cause Descr','Fire Size']]\n",
    "df2Cause = df2[['Stat Cause Descr','Fire Size']]\n",
    "df3Cause = df3[['Stat Cause Descr','Fire Size']]"
   ]
  },
  {
   "cell_type": "code",
   "execution_count": 13,
   "id": "e050cc95-b139-4ff6-8af7-fae3606d4b1c",
   "metadata": {},
   "outputs": [],
   "source": [
    "# Concatinate the four data frames down to two.\n",
    "dfCause1 = pd.concat([df0Cause, df1Cause])\n",
    "dfCause2 = pd.concat([df2Cause, df3Cause])\n",
    "\n",
    "# Deleting four original dataframes as they are no uneeded. This will save memory. \n",
    "del df0Cause\n",
    "del df1Cause\n",
    "del df2Cause\n",
    "del df3Cause"
   ]
  },
  {
   "cell_type": "code",
   "execution_count": 14,
   "id": "bf5e9a84-ca9b-497c-b470-7678a9bfd1a7",
   "metadata": {},
   "outputs": [],
   "source": [
    "# Concatinate the two data frames down to one.\n",
    "dfCause = pd.concat([dfCause1, dfCause2])\n",
    "\n",
    "# Deleting two midpoint dataframes as they are no uneeded. This will save memory. \n",
    "del dfCause1\n",
    "del dfCause2"
   ]
  },
  {
   "cell_type": "code",
   "execution_count": 16,
   "id": "83caeaca-3503-4cbd-893d-f984018fc889",
   "metadata": {},
   "outputs": [],
   "source": [
    "# Declaring a dictionary with the keys being the Wildfire Causes and the values being empty\n",
    "# lists that will be filled with the fire size data.\n",
    "causeDict = {\n",
    "    \"Arson\": [], \n",
    "    \"Campfire\": [], \n",
    "    \"Children\": [], \n",
    "    \"Debris Burning\": [], \n",
    "    \"Equipment Use\": [], \n",
    "    \"Fireworks\": [], \n",
    "    \"Lightning\": [], \n",
    "    \"Miscellaneous\": [], \n",
    "    \"Missing/Undefined\": [], \n",
    "    \"Powerline\": [], \n",
    "    \"Railroad\": [], \n",
    "    \"Smoking\": [], \n",
    "    \"Structure\": []\n",
    "    }\n",
    "\n",
    "# Loop the data frame loading the fire sizes into the appropriate causes.\n",
    "for index, row in dfCause.iterrows():\n",
    "    causeDict[row[0]].append(row[1])"
   ]
  },
  {
   "cell_type": "code",
   "execution_count": 17,
   "id": "cf18b8d9-d1b3-4d95-b801-db9ef87552ad",
   "metadata": {},
   "outputs": [],
   "source": [
    "# Declare empty lists to contain the wildfire causes and their respective averages.\n",
    "causes = []\n",
    "means = []\n",
    "\n",
    "# Loop through the keys and values of the Wildfire Cause dictionary.\n",
    "for key, value in causeDict.items():\n",
    "    \n",
    "    # Append the key to the causes list.\n",
    "    causes.append(key)\n",
    "    \n",
    "    # Check if the length of the array contained in the key is greater than zero.\n",
    "    if len(causeDict[key]) > 0:\n",
    "        \n",
    "        # Append the mean of the current value's list into the means list. \n",
    "        # The items in this list will match up with the causes list.\n",
    "        means.append(np.nanmean(causeDict[key]))\n",
    "    else:\n",
    "        means.append(0)"
   ]
  },
  {
   "cell_type": "code",
   "execution_count": 18,
   "id": "a3ce82ba-a854-481c-9c88-b61edaa7341a",
   "metadata": {},
   "outputs": [
    {
     "data": {
      "image/png": "[encoded data removed]",
      "text/plain": [
       "<Figure size 640x480 with 1 Axes>"
      ]
     },
     "metadata": {},
     "output_type": "display_data"
    }
   ],
   "source": [
    "# Plot the data we extracted using matplotlib.\n",
    "plt.title(\"Average Fire Size by Cause\")\n",
    "plt.barh(causes, means)\n",
    "\n",
    "plt.ylabel('Cause')\n",
    "plt.xlabel('Average Size')\n",
    "\n",
    "plt.show()"
   ]
  },
  {
   "cell_type": "markdown",
   "id": "70fc1c97-41a3-472b-b6ea-d4ca04bf62e1",
   "metadata": {},
   "source": [
    "## Finding the Average Size of Lightning Caused Fires by Year"
   ]
  },
  {
   "cell_type": "code",
   "execution_count": 35,
   "id": "f12d5343-bfe0-42de-ac3d-7a8eda6c3824",
   "metadata": {
    "tags": []
   },
   "outputs": [],
   "source": [
    "# Create data frames from the existing subframes with the three columns we need.\n",
    "df0Lightning = df0[['Fire Year', 'Stat Cause Descr','Fire Size']]\n",
    "df1Lightning = df1[['Fire Year', 'Stat Cause Descr','Fire Size']]\n",
    "df2Lightning = df2[['Fire Year', 'Stat Cause Descr','Fire Size']]\n",
    "df3Lightning = df3[['Fire Year', 'Stat Cause Descr','Fire Size']]"
   ]
  },
  {
   "cell_type": "code",
   "execution_count": 36,
   "id": "0f692baa-fab3-4502-98ab-6fed53f1b5f4",
   "metadata": {},
   "outputs": [],
   "source": [
    "# Concatinate the four data frames down to two.\n",
    "dfLightning1 = pd.concat([df0Lightning, df1Lightning])\n",
    "dfLightning2 = pd.concat([df2Lightning, df3Lightning])\n",
    "\n",
    "# Deleting four original dataframes as they are no uneeded. This will save memory. \n",
    "del df0Lightning\n",
    "del df1Lightning\n",
    "del df2Lightning\n",
    "del df3Lightning"
   ]
  },
  {
   "cell_type": "code",
   "execution_count": 37,
   "id": "338af363-def5-4398-bd2e-456bb0df8172",
   "metadata": {},
   "outputs": [
    {
     "name": "stdout",
     "output_type": "stream",
     "text": [
      "        Fire Year   Stat Cause Descr  Fire Size\n",
      "0            2000          Lightning        0.1\n",
      "1            2000          Lightning        0.1\n",
      "2            2000          Lightning        0.1\n",
      "3            2001          Lightning        0.2\n",
      "4            2001          Lightning        0.1\n",
      "...           ...                ...        ...\n",
      "380461       2006  Missing/Undefined     6400.0\n",
      "380462       2006  Missing/Undefined     6730.0\n",
      "380463       2010  Missing/Undefined    21620.0\n",
      "380464       2010  Missing/Undefined    11500.0\n",
      "380465       2010  Missing/Undefined     9248.0\n",
      "\n",
      "[1880468 rows x 3 columns]\n"
     ]
    }
   ],
   "source": [
    "# Concatinate the two data frames down to one.\n",
    "dfLightning = pd.concat([dfLightning1, dfLightning2])\n",
    "\n",
    "# Deleting two midpoint dataframes as they are no uneeded. This will save memory. \n",
    "del dfLightning1\n",
    "del dfLightning2"
   ]
  },
  {
   "cell_type": "code",
   "execution_count": 39,
   "id": "7a060dc5-2a0f-4068-927c-86ae3cf5c3fb",
   "metadata": {},
   "outputs": [],
   "source": [
    "# Creating an empty dictionary for the lightning fire data.\n",
    "lightning_years = {}\n",
    "\n",
    "# Loop through the data frame.\n",
    "for index, row in dfLightning.iterrows():\n",
    "    \n",
    "    # A conditional to test if the wildfire cause is lightning.\n",
    "    if row[1] == \"Lightning\":\n",
    "        \n",
    "        # Check if the current year has been added to the lightning_years dictionary.\n",
    "        if row[0] in lightning_years:\n",
    "            \n",
    "            # Append the current fire size data to the appropriate year in the dictionary.\n",
    "            lightning_years[row[0]].append(row[2])\n",
    "            \n",
    "        # If the current year isn't in the dictionary then add the year to the dictionary with\n",
    "        # the current fire size data in a list.\n",
    "        else:\n",
    "            lightning_years[row[0]] = [row[2]]\n",
    "          "
   ]
  },
  {
   "cell_type": "code",
   "execution_count": 41,
   "id": "e65dac54-d962-4c23-8a36-a6e99c10112a",
   "metadata": {},
   "outputs": [],
   "source": [
    "# Declare empty lists for the year data and their respective fire size means.\n",
    "lightning_year = []\n",
    "lightning_mean = []\n",
    "\n",
    "# Loop through the keys and values of the lightning_years dictionary sorted by key.\n",
    "for key, value in sorted(lightning_years.items()):\n",
    "    \n",
    "    # Append the year (key) to the lightning_year list. \n",
    "    lightning_year.append(key)\n",
    "    \n",
    "    # Append the mean (mean of value's list) to the lightning_mean list.\n",
    "    lightning_mean.append(mean(value))\n"
   ]
  },
  {
   "cell_type": "code",
   "execution_count": 47,
   "id": "d5571209-10cf-4b1a-adfa-36871ced8a76",
   "metadata": {},
   "outputs": [
    {
     "data": {
      "image/png": "[encoded data removed]",
      "text/plain": [
       "<Figure size 1000x700 with 1 Axes>"
      ]
     },
     "metadata": {},
     "output_type": "display_data"
    }
   ],
   "source": [
    "# Create a data frame from the year and mean data from their respective lists.\n",
    "dfAvgLightning = pd.DataFrame({\"Year\": lightning_year, \"Size\": lightning_mean})\n",
    "\n",
    "# Create an ordinary least squares model for the best fit for the mean data using statsmodels.formula.\n",
    "model = smf.ols('Size ~ Year', dfAvgLightning).fit()\n",
    "\n",
    "# Plot the means and OLS line using matplotlib.\n",
    "beta0,beta1 = model.params\n",
    "plt.figure(figsize=(10,7))\n",
    "plt.plot(dfAvgLightning[\"Year\"], dfAvgLightning[\"Size\"], 'ro');\n",
    "xticks = np.linspace(1992,2015,10000)\n",
    "plt.plot(xticks, beta0 + beta1 * xticks, lw=5)\n",
    "plt.title(\"Average Lightning Fire Size by Year\")\n",
    "plt.xlabel(\"Year\")\n",
    "plt.ylabel(\"Average Fire Size\");\n"
   ]
  },
  {
   "cell_type": "code",
   "execution_count": 44,
   "id": "15994529-60dc-4d43-8cf7-b50b700cfdee",
   "metadata": {},
   "outputs": [
    {
     "data": {
      "text/html": [
       "<table class=\"simpletable\">\n",
       "<caption>OLS Regression Results</caption>\n",
       "<tr>\n",
       "  <th>Dep. Variable:</th>          <td>Size</td>       <th>  R-squared:         </th> <td>   0.334</td>\n",
       "</tr>\n",
       "<tr>\n",
       "  <th>Model:</th>                   <td>OLS</td>       <th>  Adj. R-squared:    </th> <td>   0.303</td>\n",
       "</tr>\n",
       "<tr>\n",
       "  <th>Method:</th>             <td>Least Squares</td>  <th>  F-statistic:       </th> <td>   11.02</td>\n",
       "</tr>\n",
       "<tr>\n",
       "  <th>Date:</th>             <td>Tue, 06 Dec 2022</td> <th>  Prob (F-statistic):</th>  <td>0.00312</td>\n",
       "</tr>\n",
       "<tr>\n",
       "  <th>Time:</th>                 <td>14:59:32</td>     <th>  Log-Likelihood:    </th> <td> -155.65</td>\n",
       "</tr>\n",
       "<tr>\n",
       "  <th>No. Observations:</th>      <td>    24</td>      <th>  AIC:               </th> <td>   315.3</td>\n",
       "</tr>\n",
       "<tr>\n",
       "  <th>Df Residuals:</th>          <td>    22</td>      <th>  BIC:               </th> <td>   317.6</td>\n",
       "</tr>\n",
       "<tr>\n",
       "  <th>Df Model:</th>              <td>     1</td>      <th>                     </th>     <td> </td>   \n",
       "</tr>\n",
       "<tr>\n",
       "  <th>Covariance Type:</th>      <td>nonrobust</td>    <th>                     </th>     <td> </td>   \n",
       "</tr>\n",
       "</table>\n",
       "<table class=\"simpletable\">\n",
       "<tr>\n",
       "      <td></td>         <th>coef</th>     <th>std err</th>      <th>t</th>      <th>P>|t|</th>  <th>[0.025</th>    <th>0.975]</th>  \n",
       "</tr>\n",
       "<tr>\n",
       "  <th>Intercept</th> <td>-3.217e+04</td> <td> 9786.229</td> <td>   -3.287</td> <td> 0.003</td> <td>-5.25e+04</td> <td>-1.19e+04</td>\n",
       "</tr>\n",
       "<tr>\n",
       "  <th>Year</th>      <td>   16.2129</td> <td>    4.885</td> <td>    3.319</td> <td> 0.003</td> <td>    6.083</td> <td>   26.343</td>\n",
       "</tr>\n",
       "</table>\n",
       "<table class=\"simpletable\">\n",
       "<tr>\n",
       "  <th>Omnibus:</th>       <td> 2.779</td> <th>  Durbin-Watson:     </th> <td>   1.975</td>\n",
       "</tr>\n",
       "<tr>\n",
       "  <th>Prob(Omnibus):</th> <td> 0.249</td> <th>  Jarque-Bera (JB):  </th> <td>   2.090</td>\n",
       "</tr>\n",
       "<tr>\n",
       "  <th>Skew:</th>          <td> 0.717</td> <th>  Prob(JB):          </th> <td>   0.352</td>\n",
       "</tr>\n",
       "<tr>\n",
       "  <th>Kurtosis:</th>      <td> 2.821</td> <th>  Cond. No.          </th> <td>5.80e+05</td>\n",
       "</tr>\n",
       "</table><br/><br/>Notes:<br/>[1] Standard Errors assume that the covariance matrix of the errors is correctly specified.<br/>[2] The condition number is large, 5.8e+05. This might indicate that there are<br/>strong multicollinearity or other numerical problems."
      ],
      "text/plain": [
       "<class 'statsmodels.iolib.summary.Summary'>\n",
       "\"\"\"\n",
       "                            OLS Regression Results                            \n",
       "==============================================================================\n",
       "Dep. Variable:                   Size   R-squared:                       0.334\n",
       "Model:                            OLS   Adj. R-squared:                  0.303\n",
       "Method:                 Least Squares   F-statistic:                     11.02\n",
       "Date:                Tue, 06 Dec 2022   Prob (F-statistic):            0.00312\n",
       "Time:                        14:59:32   Log-Likelihood:                -155.65\n",
       "No. Observations:                  24   AIC:                             315.3\n",
       "Df Residuals:                      22   BIC:                             317.6\n",
       "Df Model:                           1                                         \n",
       "Covariance Type:            nonrobust                                         \n",
       "==============================================================================\n",
       "                 coef    std err          t      P>|t|      [0.025      0.975]\n",
       "------------------------------------------------------------------------------\n",
       "Intercept  -3.217e+04   9786.229     -3.287      0.003   -5.25e+04   -1.19e+04\n",
       "Year          16.2129      4.885      3.319      0.003       6.083      26.343\n",
       "==============================================================================\n",
       "Omnibus:                        2.779   Durbin-Watson:                   1.975\n",
       "Prob(Omnibus):                  0.249   Jarque-Bera (JB):                2.090\n",
       "Skew:                           0.717   Prob(JB):                        0.352\n",
       "Kurtosis:                       2.821   Cond. No.                     5.80e+05\n",
       "==============================================================================\n",
       "\n",
       "Notes:\n",
       "[1] Standard Errors assume that the covariance matrix of the errors is correctly specified.\n",
       "[2] The condition number is large, 5.8e+05. This might indicate that there are\n",
       "strong multicollinearity or other numerical problems.\n",
       "\"\"\""
      ]
     },
     "execution_count": 44,
     "metadata": {},
     "output_type": "execute_result"
    }
   ],
   "source": [
    "# Print an OLS summary from statsmodels.formula.\n",
    "model.summary()"
   ]
  },
  {
   "cell_type": "code",
   "execution_count": null,
   "id": "8b86c38a-fffe-4ede-a1b6-868ccfa7c220",
   "metadata": {},
   "outputs": [],
   "source": []
  }
 ],
 "metadata": {
  "kernelspec": {
   "display_name": "Python 3 (ipykernel)",
   "language": "python",
   "name": "python3"
  },
  "language_info": {
   "codemirror_mode": {
    "name": "ipython",
    "version": 3
   },
   "file_extension": ".py",
   "mimetype": "text/x-python",
   "name": "python",
   "nbconvert_exporter": "python",
   "pygments_lexer": "ipython3",
   "version": "3.8.3"
  }
 },
 "nbformat": 4,
 "nbformat_minor": 5
}
