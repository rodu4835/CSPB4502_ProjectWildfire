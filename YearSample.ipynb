{
 "cells": [
  {
   "cell_type": "code",
   "execution_count": 1,
   "id": "ef791536-f596-40aa-9587-09a69be1385c",
   "metadata": {},
   "outputs": [],
   "source": [
    "import pandas as pd\n",
    "from matplotlib import pyplot as plt"
   ]
  },
  {
   "cell_type": "code",
   "execution_count": 2,
   "id": "47bb5944-47bb-47f9-8875-04ee1365233b",
   "metadata": {},
   "outputs": [],
   "source": [
    "df0 = pd.read_csv(\"firesCleaned_0.csv\")\n",
    "df1 = pd.read_csv(\"firesCleaned_1.csv\")\n",
    "df2 = pd.read_csv(\"firesCleaned_2.csv\")\n",
    "df3 = pd.read_csv(\"firesCleaned_3.csv\")"
   ]
  },
  {
   "cell_type": "code",
   "execution_count": 3,
   "id": "9bb6558b-de50-4bbe-a8af-4811843cde42",
   "metadata": {},
   "outputs": [],
   "source": [
    "df0Year = df0['Fire Year']\n",
    "df1Year = df1['Fire Year']\n",
    "df2Year = df2['Fire Year']\n",
    "df3Year = df3['Fire Year']"
   ]
  },
  {
   "cell_type": "code",
   "execution_count": 4,
   "id": "414afeff-d30c-40fa-8d66-1f54c2e1a848",
   "metadata": {},
   "outputs": [],
   "source": [
    "dfYear1 = pd.concat([df0Year, df1Year])\n",
    "dfYear2 = pd.concat([df2Year, df3Year])"
   ]
  },
  {
   "cell_type": "code",
   "execution_count": 5,
   "id": "a4891f1d-351f-46d0-a104-b53a9162b75f",
   "metadata": {},
   "outputs": [],
   "source": [
    "dfYear = pd.concat([dfYear1, dfYear2])"
   ]
  },
  {
   "cell_type": "code",
   "execution_count": 6,
   "id": "9d975b5c-facf-4e14-8904-fe0a6648f096",
   "metadata": {},
   "outputs": [
    {
     "data": {
      "text/plain": [
       "<AxesSubplot:>"
      ]
     },
     "execution_count": 6,
     "metadata": {},
     "output_type": "execute_result"
    },
    {
     "data": {
      "image/png": "[encoded data removed]",
      "text/plain": [
       "<Figure size 432x288 with 1 Axes>"
      ]
     },
     "metadata": {
      "needs_background": "light"
     },
     "output_type": "display_data"
    }
   ],
   "source": [
    "dfYear.value_counts().sort_index().plot(kind='bar')"
   ]
  },
  {
   "cell_type": "code",
   "execution_count": null,
   "id": "faf4495b-65ac-44cf-a7c1-a4f91185edc4",
   "metadata": {},
   "outputs": [],
   "source": []
  }
 ],
 "metadata": {
  "kernelspec": {
   "display_name": "Python 3 (ipykernel)",
   "language": "python",
   "name": "python3"
  },
  "language_info": {
   "codemirror_mode": {
    "name": "ipython",
    "version": 3
   },
   "file_extension": ".py",
   "mimetype": "text/x-python",
   "name": "python",
   "nbconvert_exporter": "python",
   "pygments_lexer": "ipython3",
   "version": "3.10.5"
  }
 },
 "nbformat": 4,
 "nbformat_minor": 5
}
